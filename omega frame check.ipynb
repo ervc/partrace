{
 "cells": [
  {
   "cell_type": "code",
   "execution_count": 1,
   "id": "ab739d14",
   "metadata": {},
   "outputs": [],
   "source": [
    "import numpy as np\n",
    "import matplotlib.pyplot as plt\n",
    "from python.mesh import Mesh"
   ]
  },
  {
   "cell_type": "code",
   "execution_count": 2,
   "id": "a7bd5153",
   "metadata": {},
   "outputs": [
    {
     "name": "stdout",
     "output_type": "stream",
     "text": [
      "Mesh created\n",
      "Read in from ./exampleout/fargo_rescale\n",
      "nx, ny, nz = (384, 128, 1)\n",
      "ndim = 2\n",
      "coord. system = cylindrical\n",
      "units = CGS\n",
      "There are 87 additional variables stored in Mesh.variables\n",
      "\n",
      "Initialized, self.state and self.n are empty, states can be read in using read_state()\n",
      "\n"
     ]
    }
   ],
   "source": [
    "FARGODIR = './exampleout/fargo_rescale'\n",
    "\n",
    "mesh = Mesh(FARGODIR)"
   ]
  },
  {
   "cell_type": "code",
   "execution_count": 14,
   "id": "628c13fa",
   "metadata": {},
   "outputs": [],
   "source": [
    "omegaframes = []\n",
    "\n",
    "for n in range(51):\n",
    "    with open(FARGODIR+f'/summary{n:d}.dat','r') as f:\n",
    "        header = False\n",
    "        section = ''\n",
    "        for line in f:\n",
    "            if line.startswith(\"   OMEGAFRAME\"):\n",
    "                omegaframes.append(float(line.split()[-1]))"
   ]
  },
  {
   "cell_type": "code",
   "execution_count": 15,
   "id": "7cb81a93",
   "metadata": {},
   "outputs": [
    {
     "name": "stdout",
     "output_type": "stream",
     "text": [
      "1.68013939007683e-08\n",
      "1.68013939007683e-08\n",
      "1.68013939007687e-08\n",
      "1.68013939007694e-08\n",
      "1.68013939007698e-08\n",
      "1.68013939007696e-08\n",
      "1.68013939007701e-08\n",
      "1.68013939007707e-08\n",
      "1.68013939007709e-08\n",
      "1.68013939007721e-08\n",
      "1.68013939007732e-08\n",
      "1.68013939007737e-08\n",
      "1.6801393900775e-08\n",
      "1.68013939007758e-08\n",
      "1.68013939007765e-08\n",
      "1.68013939007773e-08\n",
      "1.68013939007782e-08\n",
      "1.68013939007792e-08\n",
      "1.68013939007799e-08\n",
      "1.68013939007808e-08\n",
      "1.6801393900782e-08\n",
      "1.68013939007831e-08\n",
      "1.68013939007841e-08\n",
      "1.68013939007853e-08\n",
      "1.68013939007872e-08\n",
      "1.68013939007879e-08\n",
      "1.68013939007885e-08\n",
      "1.68013939007895e-08\n",
      "1.680139390079e-08\n",
      "1.68013939007912e-08\n",
      "1.68013939007922e-08\n",
      "1.68013939007931e-08\n",
      "1.6801393900794e-08\n",
      "1.68013939007948e-08\n",
      "1.68013939007959e-08\n",
      "1.68013939007971e-08\n",
      "1.6801393900798e-08\n",
      "1.68013939007995e-08\n",
      "1.68013939008004e-08\n",
      "1.68013939008012e-08\n",
      "1.68013939008023e-08\n",
      "1.68013939008038e-08\n",
      "1.68013939008047e-08\n",
      "1.68013939008059e-08\n",
      "1.68013939008072e-08\n",
      "1.6801393900809e-08\n",
      "1.68013939008099e-08\n",
      "1.68013939008111e-08\n",
      "1.6801393900812e-08\n",
      "1.68013939008137e-08\n",
      "1.68013939008149e-08\n"
     ]
    }
   ],
   "source": [
    "for i in range(51):\n",
    "    print(omegaframes[i])"
   ]
  },
  {
   "cell_type": "code",
   "execution_count": 17,
   "id": "5882b5a3",
   "metadata": {},
   "outputs": [
    {
     "data": {
      "text/plain": [
       "[None]"
      ]
     },
     "execution_count": 17,
     "metadata": {},
     "output_type": "execute_result"
    },
    {
     "data": {
      "image/png": "[encoded data removed]",
      "text/plain": [
       "<Figure size 432x288 with 1 Axes>"
      ]
     },
     "metadata": {
      "needs_background": "light"
     },
     "output_type": "display_data"
    }
   ],
   "source": [
    "fig,ax = plt.subplots()\n",
    "ax.plot([omegaframes[i]-omegaframes[0] for i in range(51)])\n",
    "ax.set(yscale='linear')"
   ]
  },
  {
   "cell_type": "code",
   "execution_count": 18,
   "id": "4ee29017",
   "metadata": {},
   "outputs": [],
   "source": [
    "def f(x,y):\n",
    "    return x*y\n",
    "def g(x,y):\n",
    "    return np.sqrt(x**2 + y**2)\n",
    "\n",
    "funcs = {}\n",
    "funcs['area'] = f\n",
    "funcs['mag'] = g"
   ]
  },
  {
   "cell_type": "code",
   "execution_count": 22,
   "id": "c78ca965",
   "metadata": {},
   "outputs": [
    {
     "data": {
      "text/plain": [
       "12"
      ]
     },
     "execution_count": 22,
     "metadata": {},
     "output_type": "execute_result"
    }
   ],
   "source": [
    "funcs['area'](3,4)"
   ]
  },
  {
   "cell_type": "code",
   "execution_count": 21,
   "id": "9b21b75e",
   "metadata": {},
   "outputs": [
    {
     "data": {
      "text/plain": [
       "5.0"
      ]
     },
     "execution_count": 21,
     "metadata": {},
     "output_type": "execute_result"
    }
   ],
   "source": [
    "funcs['mag'](3,4)"
   ]
  },
  {
   "cell_type": "code",
   "execution_count": null,
   "id": "5c5245b9",
   "metadata": {},
   "outputs": [],
   "source": []
  }
 ],
 "metadata": {
  "kernelspec": {
   "display_name": "Python 3 (ipykernel)",
   "language": "python",
   "name": "python3"
  },
  "language_info": {
   "codemirror_mode": {
    "name": "ipython",
    "version": 3
   },
   "file_extension": ".py",
   "mimetype": "text/x-python",
   "name": "python",
   "nbconvert_exporter": "python",
   "pygments_lexer": "ipython3",
   "version": "3.8.8"
  }
 },
 "nbformat": 4,
 "nbformat_minor": 5
}
